{
 "cells": [
  {
   "cell_type": "markdown",
   "id": "f78a6c25",
   "metadata": {},
   "source": [
    "# THE SPARKS FOUNDATION \n",
    "## DATA SCIENCE & BUSINESS ANALYSIS INTERN - FEB 22 BATCH\n",
    "## AUTHOR - SUVETHA GOPAL\n",
    "### TASK 1 - EXPLORATORY DATA ANALYSIS ( RETAIL )\n",
    "### DATASET - SAMPLE SUPERSTORE"
   ]
  },
  {
   "cell_type": "code",
   "execution_count": 1,
   "id": "ca5c51eb",
   "metadata": {},
   "outputs": [],
   "source": [
    "import numpy as np\n",
    "import pandas as pd\n",
    "import seaborn as sns\n",
    "import matplotlib.pyplot as plt\n",
    "import warnings\n",
    "warnings.filterwarnings(action = 'ignore')"
   ]
  },
  {
   "cell_type": "code",
   "execution_count": 2,
   "id": "f9446346",
   "metadata": {},
   "outputs": [
    {
     "data": {
      "text/html": [
       "<div>\n",
       "<style scoped>\n",
       "    .dataframe tbody tr th:only-of-type {\n",
       "        vertical-align: middle;\n",
       "    }\n",
       "\n",
       "    .dataframe tbody tr th {\n",
       "        vertical-align: top;\n",
       "    }\n",
       "\n",
       "    .dataframe thead th {\n",
       "        text-align: right;\n",
       "    }\n",
       "</style>\n",
       "<table border=\"1\" class=\"dataframe\">\n",
       "  <thead>\n",
       "    <tr style=\"text-align: right;\">\n",
       "      <th></th>\n",
       "      <th>Ship Mode</th>\n",
       "      <th>Segment</th>\n",
       "      <th>Country</th>\n",
       "      <th>City</th>\n",
       "      <th>State</th>\n",
       "      <th>Postal Code</th>\n",
       "      <th>Region</th>\n",
       "      <th>Category</th>\n",
       "      <th>Sub-Category</th>\n",
       "      <th>Sales</th>\n",
       "      <th>Quantity</th>\n",
       "      <th>Discount</th>\n",
       "      <th>Profit</th>\n",
       "    </tr>\n",
       "  </thead>\n",
       "  <tbody>\n",
       "    <tr>\n",
       "      <th>0</th>\n",
       "      <td>Second Class</td>\n",
       "      <td>Consumer</td>\n",
       "      <td>United States</td>\n",
       "      <td>Henderson</td>\n",
       "      <td>Kentucky</td>\n",
       "      <td>42420</td>\n",
       "      <td>South</td>\n",
       "      <td>Furniture</td>\n",
       "      <td>Bookcases</td>\n",
       "      <td>261.9600</td>\n",
       "      <td>2</td>\n",
       "      <td>0.00</td>\n",
       "      <td>41.9136</td>\n",
       "    </tr>\n",
       "    <tr>\n",
       "      <th>1</th>\n",
       "      <td>Second Class</td>\n",
       "      <td>Consumer</td>\n",
       "      <td>United States</td>\n",
       "      <td>Henderson</td>\n",
       "      <td>Kentucky</td>\n",
       "      <td>42420</td>\n",
       "      <td>South</td>\n",
       "      <td>Furniture</td>\n",
       "      <td>Chairs</td>\n",
       "      <td>731.9400</td>\n",
       "      <td>3</td>\n",
       "      <td>0.00</td>\n",
       "      <td>219.5820</td>\n",
       "    </tr>\n",
       "    <tr>\n",
       "      <th>2</th>\n",
       "      <td>Second Class</td>\n",
       "      <td>Corporate</td>\n",
       "      <td>United States</td>\n",
       "      <td>Los Angeles</td>\n",
       "      <td>California</td>\n",
       "      <td>90036</td>\n",
       "      <td>West</td>\n",
       "      <td>Office Supplies</td>\n",
       "      <td>Labels</td>\n",
       "      <td>14.6200</td>\n",
       "      <td>2</td>\n",
       "      <td>0.00</td>\n",
       "      <td>6.8714</td>\n",
       "    </tr>\n",
       "    <tr>\n",
       "      <th>3</th>\n",
       "      <td>Standard Class</td>\n",
       "      <td>Consumer</td>\n",
       "      <td>United States</td>\n",
       "      <td>Fort Lauderdale</td>\n",
       "      <td>Florida</td>\n",
       "      <td>33311</td>\n",
       "      <td>South</td>\n",
       "      <td>Furniture</td>\n",
       "      <td>Tables</td>\n",
       "      <td>957.5775</td>\n",
       "      <td>5</td>\n",
       "      <td>0.45</td>\n",
       "      <td>-383.0310</td>\n",
       "    </tr>\n",
       "    <tr>\n",
       "      <th>4</th>\n",
       "      <td>Standard Class</td>\n",
       "      <td>Consumer</td>\n",
       "      <td>United States</td>\n",
       "      <td>Fort Lauderdale</td>\n",
       "      <td>Florida</td>\n",
       "      <td>33311</td>\n",
       "      <td>South</td>\n",
       "      <td>Office Supplies</td>\n",
       "      <td>Storage</td>\n",
       "      <td>22.3680</td>\n",
       "      <td>2</td>\n",
       "      <td>0.20</td>\n",
       "      <td>2.5164</td>\n",
       "    </tr>\n",
       "    <tr>\n",
       "      <th>...</th>\n",
       "      <td>...</td>\n",
       "      <td>...</td>\n",
       "      <td>...</td>\n",
       "      <td>...</td>\n",
       "      <td>...</td>\n",
       "      <td>...</td>\n",
       "      <td>...</td>\n",
       "      <td>...</td>\n",
       "      <td>...</td>\n",
       "      <td>...</td>\n",
       "      <td>...</td>\n",
       "      <td>...</td>\n",
       "      <td>...</td>\n",
       "    </tr>\n",
       "    <tr>\n",
       "      <th>9989</th>\n",
       "      <td>Second Class</td>\n",
       "      <td>Consumer</td>\n",
       "      <td>United States</td>\n",
       "      <td>Miami</td>\n",
       "      <td>Florida</td>\n",
       "      <td>33180</td>\n",
       "      <td>South</td>\n",
       "      <td>Furniture</td>\n",
       "      <td>Furnishings</td>\n",
       "      <td>25.2480</td>\n",
       "      <td>3</td>\n",
       "      <td>0.20</td>\n",
       "      <td>4.1028</td>\n",
       "    </tr>\n",
       "    <tr>\n",
       "      <th>9990</th>\n",
       "      <td>Standard Class</td>\n",
       "      <td>Consumer</td>\n",
       "      <td>United States</td>\n",
       "      <td>Costa Mesa</td>\n",
       "      <td>California</td>\n",
       "      <td>92627</td>\n",
       "      <td>West</td>\n",
       "      <td>Furniture</td>\n",
       "      <td>Furnishings</td>\n",
       "      <td>91.9600</td>\n",
       "      <td>2</td>\n",
       "      <td>0.00</td>\n",
       "      <td>15.6332</td>\n",
       "    </tr>\n",
       "    <tr>\n",
       "      <th>9991</th>\n",
       "      <td>Standard Class</td>\n",
       "      <td>Consumer</td>\n",
       "      <td>United States</td>\n",
       "      <td>Costa Mesa</td>\n",
       "      <td>California</td>\n",
       "      <td>92627</td>\n",
       "      <td>West</td>\n",
       "      <td>Technology</td>\n",
       "      <td>Phones</td>\n",
       "      <td>258.5760</td>\n",
       "      <td>2</td>\n",
       "      <td>0.20</td>\n",
       "      <td>19.3932</td>\n",
       "    </tr>\n",
       "    <tr>\n",
       "      <th>9992</th>\n",
       "      <td>Standard Class</td>\n",
       "      <td>Consumer</td>\n",
       "      <td>United States</td>\n",
       "      <td>Costa Mesa</td>\n",
       "      <td>California</td>\n",
       "      <td>92627</td>\n",
       "      <td>West</td>\n",
       "      <td>Office Supplies</td>\n",
       "      <td>Paper</td>\n",
       "      <td>29.6000</td>\n",
       "      <td>4</td>\n",
       "      <td>0.00</td>\n",
       "      <td>13.3200</td>\n",
       "    </tr>\n",
       "    <tr>\n",
       "      <th>9993</th>\n",
       "      <td>Second Class</td>\n",
       "      <td>Consumer</td>\n",
       "      <td>United States</td>\n",
       "      <td>Westminster</td>\n",
       "      <td>California</td>\n",
       "      <td>92683</td>\n",
       "      <td>West</td>\n",
       "      <td>Office Supplies</td>\n",
       "      <td>Appliances</td>\n",
       "      <td>243.1600</td>\n",
       "      <td>2</td>\n",
       "      <td>0.00</td>\n",
       "      <td>72.9480</td>\n",
       "    </tr>\n",
       "  </tbody>\n",
       "</table>\n",
       "<p>9994 rows × 13 columns</p>\n",
       "</div>"
      ],
      "text/plain": [
       "           Ship Mode    Segment        Country             City       State  \\\n",
       "0       Second Class   Consumer  United States        Henderson    Kentucky   \n",
       "1       Second Class   Consumer  United States        Henderson    Kentucky   \n",
       "2       Second Class  Corporate  United States      Los Angeles  California   \n",
       "3     Standard Class   Consumer  United States  Fort Lauderdale     Florida   \n",
       "4     Standard Class   Consumer  United States  Fort Lauderdale     Florida   \n",
       "...              ...        ...            ...              ...         ...   \n",
       "9989    Second Class   Consumer  United States            Miami     Florida   \n",
       "9990  Standard Class   Consumer  United States       Costa Mesa  California   \n",
       "9991  Standard Class   Consumer  United States       Costa Mesa  California   \n",
       "9992  Standard Class   Consumer  United States       Costa Mesa  California   \n",
       "9993    Second Class   Consumer  United States      Westminster  California   \n",
       "\n",
       "      Postal Code Region         Category Sub-Category     Sales  Quantity  \\\n",
       "0           42420  South        Furniture    Bookcases  261.9600         2   \n",
       "1           42420  South        Furniture       Chairs  731.9400         3   \n",
       "2           90036   West  Office Supplies       Labels   14.6200         2   \n",
       "3           33311  South        Furniture       Tables  957.5775         5   \n",
       "4           33311  South  Office Supplies      Storage   22.3680         2   \n",
       "...           ...    ...              ...          ...       ...       ...   \n",
       "9989        33180  South        Furniture  Furnishings   25.2480         3   \n",
       "9990        92627   West        Furniture  Furnishings   91.9600         2   \n",
       "9991        92627   West       Technology       Phones  258.5760         2   \n",
       "9992        92627   West  Office Supplies        Paper   29.6000         4   \n",
       "9993        92683   West  Office Supplies   Appliances  243.1600         2   \n",
       "\n",
       "      Discount    Profit  \n",
       "0         0.00   41.9136  \n",
       "1         0.00  219.5820  \n",
       "2         0.00    6.8714  \n",
       "3         0.45 -383.0310  \n",
       "4         0.20    2.5164  \n",
       "...        ...       ...  \n",
       "9989      0.20    4.1028  \n",
       "9990      0.00   15.6332  \n",
       "9991      0.20   19.3932  \n",
       "9992      0.00   13.3200  \n",
       "9993      0.00   72.9480  \n",
       "\n",
       "[9994 rows x 13 columns]"
      ]
     },
     "execution_count": 2,
     "metadata": {},
     "output_type": "execute_result"
    }
   ],
   "source": [
    "sam_store = pd.read_csv('D:/internship/SampleSuperstore.csv')\n",
    "sam_store"
   ]
  },
  {
   "cell_type": "code",
   "execution_count": 3,
   "id": "2dd856a7",
   "metadata": {},
   "outputs": [
    {
     "data": {
      "text/plain": [
       "(9994, 13)"
      ]
     },
     "execution_count": 3,
     "metadata": {},
     "output_type": "execute_result"
    }
   ],
   "source": [
    "sam_store.shape"
   ]
  },
  {
   "cell_type": "code",
   "execution_count": 4,
   "id": "64401352",
   "metadata": {},
   "outputs": [
    {
     "name": "stdout",
     "output_type": "stream",
     "text": [
      "<class 'pandas.core.frame.DataFrame'>\n",
      "RangeIndex: 9994 entries, 0 to 9993\n",
      "Data columns (total 13 columns):\n",
      " #   Column        Non-Null Count  Dtype  \n",
      "---  ------        --------------  -----  \n",
      " 0   Ship Mode     9994 non-null   object \n",
      " 1   Segment       9994 non-null   object \n",
      " 2   Country       9994 non-null   object \n",
      " 3   City          9994 non-null   object \n",
      " 4   State         9994 non-null   object \n",
      " 5   Postal Code   9994 non-null   int64  \n",
      " 6   Region        9994 non-null   object \n",
      " 7   Category      9994 non-null   object \n",
      " 8   Sub-Category  9994 non-null   object \n",
      " 9   Sales         9994 non-null   float64\n",
      " 10  Quantity      9994 non-null   int64  \n",
      " 11  Discount      9994 non-null   float64\n",
      " 12  Profit        9994 non-null   float64\n",
      "dtypes: float64(3), int64(2), object(8)\n",
      "memory usage: 1015.1+ KB\n"
     ]
    }
   ],
   "source": [
    "sam_store.info()"
   ]
  },
  {
   "cell_type": "code",
   "execution_count": 5,
   "id": "657da199",
   "metadata": {},
   "outputs": [],
   "source": [
    "# converting the postal code as object\n",
    "sam_store['Postal Code'] = sam_store['Postal Code'].astype('object')"
   ]
  },
  {
   "cell_type": "code",
   "execution_count": 6,
   "id": "c0a5db28",
   "metadata": {},
   "outputs": [
    {
     "data": {
      "text/plain": [
       "Ship Mode       0\n",
       "Segment         0\n",
       "Country         0\n",
       "City            0\n",
       "State           0\n",
       "Postal Code     0\n",
       "Region          0\n",
       "Category        0\n",
       "Sub-Category    0\n",
       "Sales           0\n",
       "Quantity        0\n",
       "Discount        0\n",
       "Profit          0\n",
       "dtype: int64"
      ]
     },
     "execution_count": 6,
     "metadata": {},
     "output_type": "execute_result"
    }
   ],
   "source": [
    "sam_store.isnull().sum()"
   ]
  },
  {
   "cell_type": "code",
   "execution_count": 7,
   "id": "78244cf2",
   "metadata": {},
   "outputs": [],
   "source": [
    "# There are no null values in the data"
   ]
  },
  {
   "cell_type": "code",
   "execution_count": 8,
   "id": "aa74bdb2",
   "metadata": {},
   "outputs": [
    {
     "data": {
      "text/html": [
       "<div>\n",
       "<style scoped>\n",
       "    .dataframe tbody tr th:only-of-type {\n",
       "        vertical-align: middle;\n",
       "    }\n",
       "\n",
       "    .dataframe tbody tr th {\n",
       "        vertical-align: top;\n",
       "    }\n",
       "\n",
       "    .dataframe thead th {\n",
       "        text-align: right;\n",
       "    }\n",
       "</style>\n",
       "<table border=\"1\" class=\"dataframe\">\n",
       "  <thead>\n",
       "    <tr style=\"text-align: right;\">\n",
       "      <th></th>\n",
       "      <th>Sales</th>\n",
       "      <th>Quantity</th>\n",
       "      <th>Discount</th>\n",
       "      <th>Profit</th>\n",
       "    </tr>\n",
       "  </thead>\n",
       "  <tbody>\n",
       "    <tr>\n",
       "      <th>count</th>\n",
       "      <td>9994.000000</td>\n",
       "      <td>9994.000000</td>\n",
       "      <td>9994.000000</td>\n",
       "      <td>9994.000000</td>\n",
       "    </tr>\n",
       "    <tr>\n",
       "      <th>mean</th>\n",
       "      <td>229.858001</td>\n",
       "      <td>3.789574</td>\n",
       "      <td>0.156203</td>\n",
       "      <td>28.656896</td>\n",
       "    </tr>\n",
       "    <tr>\n",
       "      <th>std</th>\n",
       "      <td>623.245101</td>\n",
       "      <td>2.225110</td>\n",
       "      <td>0.206452</td>\n",
       "      <td>234.260108</td>\n",
       "    </tr>\n",
       "    <tr>\n",
       "      <th>min</th>\n",
       "      <td>0.444000</td>\n",
       "      <td>1.000000</td>\n",
       "      <td>0.000000</td>\n",
       "      <td>-6599.978000</td>\n",
       "    </tr>\n",
       "    <tr>\n",
       "      <th>25%</th>\n",
       "      <td>17.280000</td>\n",
       "      <td>2.000000</td>\n",
       "      <td>0.000000</td>\n",
       "      <td>1.728750</td>\n",
       "    </tr>\n",
       "    <tr>\n",
       "      <th>50%</th>\n",
       "      <td>54.490000</td>\n",
       "      <td>3.000000</td>\n",
       "      <td>0.200000</td>\n",
       "      <td>8.666500</td>\n",
       "    </tr>\n",
       "    <tr>\n",
       "      <th>75%</th>\n",
       "      <td>209.940000</td>\n",
       "      <td>5.000000</td>\n",
       "      <td>0.200000</td>\n",
       "      <td>29.364000</td>\n",
       "    </tr>\n",
       "    <tr>\n",
       "      <th>max</th>\n",
       "      <td>22638.480000</td>\n",
       "      <td>14.000000</td>\n",
       "      <td>0.800000</td>\n",
       "      <td>8399.976000</td>\n",
       "    </tr>\n",
       "  </tbody>\n",
       "</table>\n",
       "</div>"
      ],
      "text/plain": [
       "              Sales     Quantity     Discount       Profit\n",
       "count   9994.000000  9994.000000  9994.000000  9994.000000\n",
       "mean     229.858001     3.789574     0.156203    28.656896\n",
       "std      623.245101     2.225110     0.206452   234.260108\n",
       "min        0.444000     1.000000     0.000000 -6599.978000\n",
       "25%       17.280000     2.000000     0.000000     1.728750\n",
       "50%       54.490000     3.000000     0.200000     8.666500\n",
       "75%      209.940000     5.000000     0.200000    29.364000\n",
       "max    22638.480000    14.000000     0.800000  8399.976000"
      ]
     },
     "execution_count": 8,
     "metadata": {},
     "output_type": "execute_result"
    }
   ],
   "source": [
    "sam_store.describe()"
   ]
  },
  {
   "cell_type": "code",
   "execution_count": 9,
   "id": "e0520571",
   "metadata": {},
   "outputs": [
    {
     "data": {
      "text/plain": [
       "Postal Code    55190.379428\n",
       "Sales            229.858001\n",
       "Quantity           3.789574\n",
       "Discount           0.156203\n",
       "Profit            28.656896\n",
       "dtype: float64"
      ]
     },
     "execution_count": 9,
     "metadata": {},
     "output_type": "execute_result"
    }
   ],
   "source": [
    "sam_store.mean()"
   ]
  },
  {
   "cell_type": "code",
   "execution_count": 10,
   "id": "afba78d4",
   "metadata": {},
   "outputs": [
    {
     "data": {
      "text/plain": [
       "Postal Code    56430.5000\n",
       "Sales             54.4900\n",
       "Quantity           3.0000\n",
       "Discount           0.2000\n",
       "Profit             8.6665\n",
       "dtype: float64"
      ]
     },
     "execution_count": 10,
     "metadata": {},
     "output_type": "execute_result"
    }
   ],
   "source": [
    "sam_store.median()"
   ]
  },
  {
   "cell_type": "code",
   "execution_count": 11,
   "id": "75a852be",
   "metadata": {},
   "outputs": [
    {
     "data": {
      "text/html": [
       "<div>\n",
       "<style scoped>\n",
       "    .dataframe tbody tr th:only-of-type {\n",
       "        vertical-align: middle;\n",
       "    }\n",
       "\n",
       "    .dataframe tbody tr th {\n",
       "        vertical-align: top;\n",
       "    }\n",
       "\n",
       "    .dataframe thead th {\n",
       "        text-align: right;\n",
       "    }\n",
       "</style>\n",
       "<table border=\"1\" class=\"dataframe\">\n",
       "  <thead>\n",
       "    <tr style=\"text-align: right;\">\n",
       "      <th></th>\n",
       "      <th>Ship Mode</th>\n",
       "      <th>Segment</th>\n",
       "      <th>Country</th>\n",
       "      <th>City</th>\n",
       "      <th>State</th>\n",
       "      <th>Postal Code</th>\n",
       "      <th>Region</th>\n",
       "      <th>Category</th>\n",
       "      <th>Sub-Category</th>\n",
       "      <th>Sales</th>\n",
       "      <th>Quantity</th>\n",
       "      <th>Discount</th>\n",
       "      <th>Profit</th>\n",
       "    </tr>\n",
       "  </thead>\n",
       "  <tbody>\n",
       "    <tr>\n",
       "      <th>0</th>\n",
       "      <td>Standard Class</td>\n",
       "      <td>Consumer</td>\n",
       "      <td>United States</td>\n",
       "      <td>New York City</td>\n",
       "      <td>California</td>\n",
       "      <td>10035</td>\n",
       "      <td>West</td>\n",
       "      <td>Office Supplies</td>\n",
       "      <td>Binders</td>\n",
       "      <td>12.96</td>\n",
       "      <td>3</td>\n",
       "      <td>0.0</td>\n",
       "      <td>0.0</td>\n",
       "    </tr>\n",
       "  </tbody>\n",
       "</table>\n",
       "</div>"
      ],
      "text/plain": [
       "        Ship Mode   Segment        Country           City       State  \\\n",
       "0  Standard Class  Consumer  United States  New York City  California   \n",
       "\n",
       "  Postal Code Region         Category Sub-Category  Sales  Quantity  Discount  \\\n",
       "0       10035   West  Office Supplies      Binders  12.96         3       0.0   \n",
       "\n",
       "   Profit  \n",
       "0     0.0  "
      ]
     },
     "execution_count": 11,
     "metadata": {},
     "output_type": "execute_result"
    }
   ],
   "source": [
    "sam_store.mode()"
   ]
  },
  {
   "cell_type": "code",
   "execution_count": 12,
   "id": "7910aa4f",
   "metadata": {},
   "outputs": [
    {
     "name": "stdout",
     "output_type": "stream",
     "text": [
      "Standard Class    5968\n",
      "Second Class      1945\n",
      "First Class       1538\n",
      "Same Day           543\n",
      "Name: Ship Mode, dtype: int64\n",
      "Consumer       5191\n",
      "Corporate      3020\n",
      "Home Office    1783\n",
      "Name: Segment, dtype: int64\n",
      "United States    9994\n",
      "Name: Country, dtype: int64\n",
      "New York City    915\n",
      "Los Angeles      747\n",
      "Philadelphia     537\n",
      "San Francisco    510\n",
      "Seattle          428\n",
      "                ... \n",
      "Manhattan          1\n",
      "Iowa City          1\n",
      "Aberdeen           1\n",
      "Saint Peters       1\n",
      "Abilene            1\n",
      "Name: City, Length: 531, dtype: int64\n",
      "California              2001\n",
      "New York                1128\n",
      "Texas                    985\n",
      "Pennsylvania             587\n",
      "Washington               506\n",
      "Illinois                 492\n",
      "Ohio                     469\n",
      "Florida                  383\n",
      "Michigan                 255\n",
      "North Carolina           249\n",
      "Virginia                 224\n",
      "Arizona                  224\n",
      "Georgia                  184\n",
      "Tennessee                183\n",
      "Colorado                 182\n",
      "Indiana                  149\n",
      "Kentucky                 139\n",
      "Massachusetts            135\n",
      "New Jersey               130\n",
      "Oregon                   124\n",
      "Wisconsin                110\n",
      "Maryland                 105\n",
      "Delaware                  96\n",
      "Minnesota                 89\n",
      "Connecticut               82\n",
      "Oklahoma                  66\n",
      "Missouri                  66\n",
      "Alabama                   61\n",
      "Arkansas                  60\n",
      "Rhode Island              56\n",
      "Utah                      53\n",
      "Mississippi               53\n",
      "Louisiana                 42\n",
      "South Carolina            42\n",
      "Nevada                    39\n",
      "Nebraska                  38\n",
      "New Mexico                37\n",
      "Iowa                      30\n",
      "New Hampshire             27\n",
      "Kansas                    24\n",
      "Idaho                     21\n",
      "Montana                   15\n",
      "South Dakota              12\n",
      "Vermont                   11\n",
      "District of Columbia      10\n",
      "Maine                      8\n",
      "North Dakota               7\n",
      "West Virginia              4\n",
      "Wyoming                    1\n",
      "Name: State, dtype: int64\n",
      "10035    263\n",
      "10024    230\n",
      "10009    229\n",
      "94122    203\n",
      "10011    193\n",
      "        ... \n",
      "90640      1\n",
      "77536      1\n",
      "7036       1\n",
      "90660      1\n",
      "90604      1\n",
      "Name: Postal Code, Length: 631, dtype: int64\n",
      "West       3203\n",
      "East       2848\n",
      "Central    2323\n",
      "South      1620\n",
      "Name: Region, dtype: int64\n",
      "Office Supplies    6026\n",
      "Furniture          2121\n",
      "Technology         1847\n",
      "Name: Category, dtype: int64\n",
      "Binders        1523\n",
      "Paper          1370\n",
      "Furnishings     957\n",
      "Phones          889\n",
      "Storage         846\n",
      "Art             796\n",
      "Accessories     775\n",
      "Chairs          617\n",
      "Appliances      466\n",
      "Labels          364\n",
      "Tables          319\n",
      "Envelopes       254\n",
      "Bookcases       228\n",
      "Fasteners       217\n",
      "Supplies        190\n",
      "Machines        115\n",
      "Copiers          68\n",
      "Name: Sub-Category, dtype: int64\n"
     ]
    }
   ],
   "source": [
    "# Getting the value counts on each category of the categorical columns in the data\n",
    "\n",
    "for i in sam_store.columns:\n",
    "    if sam_store[i].dtype != object:\n",
    "        continue\n",
    "    print (sam_store[i].value_counts())"
   ]
  },
  {
   "cell_type": "markdown",
   "id": "128c8038",
   "metadata": {},
   "source": [
    "### Observation :\n",
    "1. It is observed that all the stores are located in only one country i.e., The United States\n",
    "2. There region consists of four categories : west, east, central & south\n",
    "3. The products are categorized into three types : office supplies, furniture & technology\n",
    "4. There are about 17 sub-categories to the categories listed above\n",
    "5. The shipment mode is based on 4 classes : standard class, second class, first class & same day\n",
    "6. The stores are classified into 3 segments : consumer, corporate & home office\n",
    "7. The stores are located in around 531 cities all over the US"
   ]
  },
  {
   "cell_type": "markdown",
   "id": "a22e91f7",
   "metadata": {},
   "source": [
    "### Lets identify the weak areas of profit :\n",
    "The target variable is Profit as the analysis is to find the weak areas of profit and improve it\n",
    "### 1. Region-wise :"
   ]
  },
  {
   "cell_type": "code",
   "execution_count": 13,
   "id": "9c0598d4",
   "metadata": {},
   "outputs": [
    {
     "data": {
      "text/plain": [
       "Region\n",
       "Central    17.092709\n",
       "East       32.135808\n",
       "South      28.857673\n",
       "West       33.849032\n",
       "Name: Profit, dtype: float64"
      ]
     },
     "execution_count": 13,
     "metadata": {},
     "output_type": "execute_result"
    }
   ],
   "source": [
    "sam_store.groupby('Region')['Profit'].mean()"
   ]
  },
  {
   "cell_type": "code",
   "execution_count": 14,
   "id": "1157f459",
   "metadata": {},
   "outputs": [
    {
     "data": {
      "image/png": "[encoded data removed]",
      "text/plain": [
       "<Figure size 432x288 with 1 Axes>"
      ]
     },
     "metadata": {
      "needs_background": "light"
     },
     "output_type": "display_data"
    }
   ],
   "source": [
    "sns.barplot(sam_store['Region'], sam_store['Profit'])\n",
    "plt.show()"
   ]
  },
  {
   "cell_type": "code",
   "execution_count": 15,
   "id": "fb3ef051",
   "metadata": {},
   "outputs": [
    {
     "data": {
      "text/plain": [
       "Region\n",
       "Central    0.240353\n",
       "East       0.145365\n",
       "South      0.147253\n",
       "West       0.109335\n",
       "Name: Discount, dtype: float64"
      ]
     },
     "execution_count": 15,
     "metadata": {},
     "output_type": "execute_result"
    }
   ],
   "source": [
    "sam_store.groupby('Region')['Discount'].mean()"
   ]
  },
  {
   "cell_type": "code",
   "execution_count": 16,
   "id": "c38aed03",
   "metadata": {},
   "outputs": [
    {
     "data": {
      "image/png": "[encoded data removed]",
      "text/plain": [
       "<Figure size 432x288 with 1 Axes>"
      ]
     },
     "metadata": {
      "needs_background": "light"
     },
     "output_type": "display_data"
    }
   ],
   "source": [
    "sns.barplot(sam_store['Region'], sam_store['Discount'])\n",
    "plt.show()"
   ]
  },
  {
   "cell_type": "markdown",
   "id": "42caac20",
   "metadata": {},
   "source": [
    "1. Central region shows very low profit inspite of highest discount provided compared to other 3 regions\n",
    "2. Lets look at discount & profit data of the states that the central region covers"
   ]
  },
  {
   "cell_type": "code",
   "execution_count": 17,
   "id": "cca4f830",
   "metadata": {},
   "outputs": [
    {
     "data": {
      "text/plain": [
       "array(['Texas', 'Wisconsin', 'Nebraska', 'Illinois', 'Minnesota',\n",
       "       'Michigan', 'Indiana', 'Iowa', 'Missouri', 'Oklahoma', 'Kansas',\n",
       "       'South Dakota', 'North Dakota'], dtype=object)"
      ]
     },
     "execution_count": 17,
     "metadata": {},
     "output_type": "execute_result"
    }
   ],
   "source": [
    "states = sam_store[sam_store['Region']=='Central']['State'].unique()\n",
    "states"
   ]
  },
  {
   "cell_type": "code",
   "execution_count": 18,
   "id": "7398cb53",
   "metadata": {},
   "outputs": [
    {
     "name": "stdout",
     "output_type": "stream",
     "text": [
      "Texas --> DISCOUNT : 0.37019289340101386 , PROFIT : -26.12117390862944\n",
      "Wisconsin --> DISCOUNT : 0.0 , PROFIT : 76.38000363636363\n",
      "Nebraska --> DISCOUNT : 0.0 , PROFIT : 53.60774210526318\n",
      "Illinois --> DISCOUNT : 0.390040650406503 , PROFIT : -25.625786585365816\n",
      "Minnesota --> DISCOUNT : 0.0 , PROFIT : 121.60884719101125\n",
      "Michigan --> DISCOUNT : 0.007058823529411767 , PROFIT : 95.93406901960782\n",
      "Indiana --> DISCOUNT : 0.0 , PROFIT : 123.37541140939601\n",
      "Iowa --> DISCOUNT : 0.0 , PROFIT : 39.460396666666675\n",
      "Missouri --> DISCOUNT : 0.0 , PROFIT : 97.5183409090909\n",
      "Oklahoma --> DISCOUNT : 0.0 , PROFIT : 73.54478787878789\n",
      "Kansas --> DISCOUNT : 0.0 , PROFIT : 34.8518125\n",
      "South Dakota --> DISCOUNT : 0.0 , PROFIT : 32.90235833333333\n",
      "North Dakota --> DISCOUNT : 0.0 , PROFIT : 32.87852857142857\n"
     ]
    }
   ],
   "source": [
    "for i in states:\n",
    "    print(i,'--> DISCOUNT :',sam_store[(sam_store['State']==i)]['Discount'].mean(),\n",
    "          ', PROFIT :',sam_store[(sam_store['State']==i)]['Profit'].mean())"
   ]
  },
  {
   "cell_type": "code",
   "execution_count": 19,
   "id": "6852c646",
   "metadata": {},
   "outputs": [
    {
     "data": {
      "image/png": "[encoded data removed]",
      "text/plain": [
       "<Figure size 1080x576 with 1 Axes>"
      ]
     },
     "metadata": {
      "needs_background": "light"
     },
     "output_type": "display_data"
    }
   ],
   "source": [
    "plt.figure(figsize = (15,8))\n",
    "sam_store[sam_store['Region']=='Central'].groupby('State')['Profit'].mean().plot(kind = 'bar')\n",
    "plt.show()"
   ]
  },
  {
   "cell_type": "code",
   "execution_count": 20,
   "id": "bce33a59",
   "metadata": {},
   "outputs": [
    {
     "data": {
      "image/png": "[encoded data removed]",
      "text/plain": [
       "<Figure size 1080x360 with 1 Axes>"
      ]
     },
     "metadata": {
      "needs_background": "light"
     },
     "output_type": "display_data"
    }
   ],
   "source": [
    "plt.figure(figsize = (15,5))\n",
    "sam_store[sam_store['Region']=='Central'].groupby('State')['Discount'].mean().plot(kind = 'bar')\n",
    "plt.show()"
   ]
  },
  {
   "cell_type": "markdown",
   "id": "ff314ea0",
   "metadata": {},
   "source": [
    "The above graphical representation clearly indicates that even among the states in the central region, states with higher discount gives very less profit (i.e., it is in loss)"
   ]
  },
  {
   "cell_type": "markdown",
   "id": "1e0c27aa",
   "metadata": {},
   "source": [
    "#### 2. Based on correlation :"
   ]
  },
  {
   "cell_type": "code",
   "execution_count": 21,
   "id": "684afd24",
   "metadata": {},
   "outputs": [
    {
     "name": "stdout",
     "output_type": "stream",
     "text": [
      "correlation between profit and discount : -0.21948745637176784\n",
      "correlation between profit and sales : 0.47906434973770595\n",
      "correlation between profit and quantity : 0.06625318912428484\n"
     ]
    }
   ],
   "source": [
    "print('correlation between profit and discount :',sam_store['Profit'].corr(sam_store['Discount']))\n",
    "print('correlation between profit and sales :',sam_store['Profit'].corr(sam_store['Sales']))\n",
    "print('correlation between profit and quantity :',sam_store['Profit'].corr(sam_store['Quantity']))"
   ]
  },
  {
   "cell_type": "code",
   "execution_count": 22,
   "id": "aa4076eb",
   "metadata": {},
   "outputs": [],
   "source": [
    "cor_matrix = sam_store[['Profit','Discount','Sales','Quantity']]"
   ]
  },
  {
   "cell_type": "code",
   "execution_count": 23,
   "id": "e505ab30",
   "metadata": {},
   "outputs": [
    {
     "data": {
      "image/png": "[encoded data removed]",
      "text/plain": [
       "<Figure size 720x576 with 2 Axes>"
      ]
     },
     "metadata": {
      "needs_background": "light"
     },
     "output_type": "display_data"
    }
   ],
   "source": [
    "plt.rcParams['figure.figsize'] = (10,8)\n",
    "x = cor_matrix.corr()\n",
    "sns.heatmap(x, annot = True)\n",
    "plt.title('Correlation Matrix', fontsize = 16)\n",
    "plt.show()"
   ]
  },
  {
   "cell_type": "markdown",
   "id": "4201d222",
   "metadata": {},
   "source": [
    "1. The heatmap indicates that the discount and profit are highly negatively correlated\n",
    "2. That is, if discount increases, profit decreases\n",
    "3. Also, there is a slight negative correlation between discount and sales\n",
    "4. Since there is a highly positive correlation between profit & sales, it is advisable to work on sales to increase the profit"
   ]
  },
  {
   "cell_type": "markdown",
   "id": "11c36679",
   "metadata": {},
   "source": [
    "### 3. State-wise :"
   ]
  },
  {
   "cell_type": "code",
   "execution_count": 24,
   "id": "2bfada61",
   "metadata": {},
   "outputs": [
    {
     "name": "stdout",
     "output_type": "stream",
     "text": [
      "States in which the store gain profit : State\n",
      "Alabama                  94.865989\n",
      "Arkansas                 66.811452\n",
      "California               38.171608\n",
      "Connecticut              42.823071\n",
      "Delaware                103.930988\n",
      "District of Columbia    105.958930\n",
      "Georgia                  88.315453\n",
      "Idaho                    39.367767\n",
      "Indiana                 123.375411\n",
      "Iowa                     39.460397\n",
      "Kansas                   34.851813\n",
      "Kentucky                 80.573357\n",
      "Louisiana                52.288150\n",
      "Maine                    56.810775\n",
      "Maryland                 66.963608\n",
      "Massachusetts            50.262975\n",
      "Michigan                 95.934069\n",
      "Minnesota               121.608847\n",
      "Mississippi              59.867475\n",
      "Missouri                 97.518341\n",
      "Montana                 122.221900\n",
      "Nebraska                 53.607742\n",
      "Nevada                   85.045279\n",
      "New Hampshire            63.203807\n",
      "New Jersey               75.176260\n",
      "New Mexico               31.273408\n",
      "New York                 65.637011\n",
      "North Dakota             32.878529\n",
      "Oklahoma                 73.544788\n",
      "Rhode Island            130.100523\n",
      "South Carolina           42.120395\n",
      "South Dakota             32.902358\n",
      "Utah                     48.047802\n",
      "Vermont                 204.088936\n",
      "Virginia                 83.026564\n",
      "Washington               66.013146\n",
      "West Virginia            46.480400\n",
      "Wisconsin                76.380004\n",
      "Wyoming                 100.196000\n",
      "Name: Profit, dtype: float64\n",
      "States in which the stores are in loss : State\n",
      "Arizona          -15.303235\n",
      "Colorado         -35.867351\n",
      "Florida           -8.875461\n",
      "Illinois         -25.625787\n",
      "North Carolina   -30.083985\n",
      "Ohio             -36.186304\n",
      "Oregon            -9.600569\n",
      "Pennsylvania     -26.507598\n",
      "Tennessee        -29.189583\n",
      "Texas            -26.121174\n",
      "Name: Profit, dtype: float64\n"
     ]
    }
   ],
   "source": [
    "state_profit = sam_store.groupby('State')['Profit'].mean()\n",
    "print('States in which the store gain profit :',state_profit.get(state_profit>0))\n",
    "print('States in which the stores are in loss :',state_profit.get(state_profit<0))"
   ]
  },
  {
   "cell_type": "markdown",
   "id": "a5105064",
   "metadata": {},
   "source": [
    "1. Ohio, Colorado, North Carolina are the top three states which are in high loss\n",
    "2. Whereas states like Vermont, Rhode Island, Indiana, Montana, Minnesota, District of Columbia, Delaware and Wyoming shows profit percentage greater than 100.\n",
    "3. We can compare the data of the stores in Vermont with the stores in other states that are in loss to get more insight on how to increase the profit in those areas"
   ]
  },
  {
   "cell_type": "markdown",
   "id": "0b0dfe5d",
   "metadata": {},
   "source": [
    "### 4. Category-wise :"
   ]
  },
  {
   "cell_type": "code",
   "execution_count": 25,
   "id": "e68bb746",
   "metadata": {},
   "outputs": [
    {
     "data": {
      "text/plain": [
       "Category\n",
       "Furniture           8.699327\n",
       "Office Supplies    20.327050\n",
       "Technology         78.752002\n",
       "Name: Profit, dtype: float64"
      ]
     },
     "execution_count": 25,
     "metadata": {},
     "output_type": "execute_result"
    }
   ],
   "source": [
    "sam_store.groupby('Category')['Profit'].mean()"
   ]
  },
  {
   "cell_type": "code",
   "execution_count": 26,
   "id": "c1d1bcde",
   "metadata": {},
   "outputs": [
    {
     "data": {
      "image/png": "[encoded data removed]",
      "text/plain": [
       "<Figure size 720x576 with 1 Axes>"
      ]
     },
     "metadata": {},
     "output_type": "display_data"
    }
   ],
   "source": [
    "sam_store.groupby('Category')['Profit'].mean().plot(kind = 'pie', autopct = '%0.2f%%')\n",
    "plt.title('Profit obtained in each category', fontsize = 15)\n",
    "plt.show()"
   ]
  },
  {
   "cell_type": "code",
   "execution_count": 27,
   "id": "b1d77dd0",
   "metadata": {},
   "outputs": [
    {
     "data": {
      "text/html": [
       "<div>\n",
       "<style scoped>\n",
       "    .dataframe tbody tr th:only-of-type {\n",
       "        vertical-align: middle;\n",
       "    }\n",
       "\n",
       "    .dataframe tbody tr th {\n",
       "        vertical-align: top;\n",
       "    }\n",
       "\n",
       "    .dataframe thead tr th {\n",
       "        text-align: left;\n",
       "    }\n",
       "</style>\n",
       "<table border=\"1\" class=\"dataframe\">\n",
       "  <thead>\n",
       "    <tr>\n",
       "      <th>Category</th>\n",
       "      <th colspan=\"4\" halign=\"left\">Furniture</th>\n",
       "      <th colspan=\"9\" halign=\"left\">Office Supplies</th>\n",
       "      <th colspan=\"4\" halign=\"left\">Technology</th>\n",
       "    </tr>\n",
       "    <tr>\n",
       "      <th>Sub-Category</th>\n",
       "      <th>Bookcases</th>\n",
       "      <th>Chairs</th>\n",
       "      <th>Furnishings</th>\n",
       "      <th>Tables</th>\n",
       "      <th>Appliances</th>\n",
       "      <th>Art</th>\n",
       "      <th>Binders</th>\n",
       "      <th>Envelopes</th>\n",
       "      <th>Fasteners</th>\n",
       "      <th>Labels</th>\n",
       "      <th>Paper</th>\n",
       "      <th>Storage</th>\n",
       "      <th>Supplies</th>\n",
       "      <th>Accessories</th>\n",
       "      <th>Copiers</th>\n",
       "      <th>Machines</th>\n",
       "      <th>Phones</th>\n",
       "    </tr>\n",
       "  </thead>\n",
       "  <tbody>\n",
       "    <tr>\n",
       "      <th>Profit</th>\n",
       "      <td>-15.230509</td>\n",
       "      <td>43.095894</td>\n",
       "      <td>13.645918</td>\n",
       "      <td>-55.565771</td>\n",
       "      <td>38.922758</td>\n",
       "      <td>8.200737</td>\n",
       "      <td>19.843574</td>\n",
       "      <td>27.418019</td>\n",
       "      <td>4.37566</td>\n",
       "      <td>15.236962</td>\n",
       "      <td>24.85662</td>\n",
       "      <td>25.152277</td>\n",
       "      <td>-6.258418</td>\n",
       "      <td>54.111788</td>\n",
       "      <td>817.90919</td>\n",
       "      <td>29.432669</td>\n",
       "      <td>50.073938</td>\n",
       "    </tr>\n",
       "  </tbody>\n",
       "</table>\n",
       "</div>"
      ],
      "text/plain": [
       "Category      Furniture                                   Office Supplies  \\\n",
       "Sub-Category  Bookcases     Chairs Furnishings     Tables      Appliances   \n",
       "Profit       -15.230509  43.095894   13.645918 -55.565771       38.922758   \n",
       "\n",
       "Category                                                                     \\\n",
       "Sub-Category       Art    Binders  Envelopes Fasteners     Labels     Paper   \n",
       "Profit        8.200737  19.843574  27.418019   4.37566  15.236962  24.85662   \n",
       "\n",
       "Category                           Technology                                   \n",
       "Sub-Category    Storage  Supplies Accessories    Copiers   Machines     Phones  \n",
       "Profit        25.152277 -6.258418   54.111788  817.90919  29.432669  50.073938  "
      ]
     },
     "execution_count": 27,
     "metadata": {},
     "output_type": "execute_result"
    }
   ],
   "source": [
    "pd.pivot_table(values = 'Profit', columns = ['Category','Sub-Category'], data = sam_store)"
   ]
  },
  {
   "cell_type": "markdown",
   "id": "d7bbab9a",
   "metadata": {},
   "source": [
    "1. The pie chart shows the category with low profit which is Furniture with 8.07 % of the total profit\n",
    "2. With the help of the pivot table, it is found that there are 4 sub-categories that comes under furniture category\n",
    "3. Out of the 4 sub-categories, two of them are in loss (Bookcases & Tables)\n",
    "4. There is one sub-category in office supplies which shows loss but in very minimal amount which is 'Supplies'"
   ]
  },
  {
   "cell_type": "markdown",
   "id": "c7843326",
   "metadata": {},
   "source": [
    "### 5. Sub-Category-wise :"
   ]
  },
  {
   "cell_type": "code",
   "execution_count": 28,
   "id": "ba88dfe7",
   "metadata": {},
   "outputs": [
    {
     "data": {
      "text/plain": [
       "Sub-Category\n",
       "Accessories     54.111788\n",
       "Appliances      38.922758\n",
       "Art              8.200737\n",
       "Binders         19.843574\n",
       "Bookcases      -15.230509\n",
       "Chairs          43.095894\n",
       "Copiers        817.909190\n",
       "Envelopes       27.418019\n",
       "Fasteners        4.375660\n",
       "Furnishings     13.645918\n",
       "Labels          15.236962\n",
       "Machines        29.432669\n",
       "Paper           24.856620\n",
       "Phones          50.073938\n",
       "Storage         25.152277\n",
       "Supplies        -6.258418\n",
       "Tables         -55.565771\n",
       "Name: Profit, dtype: float64"
      ]
     },
     "execution_count": 28,
     "metadata": {},
     "output_type": "execute_result"
    }
   ],
   "source": [
    "sam_store.groupby('Sub-Category')['Profit'].mean()"
   ]
  },
  {
   "cell_type": "code",
   "execution_count": 29,
   "id": "8c6dfcc6",
   "metadata": {},
   "outputs": [
    {
     "data": {
      "image/png": "[encoded data removed]",
      "text/plain": [
       "<Figure size 1080x432 with 1 Axes>"
      ]
     },
     "metadata": {
      "needs_background": "light"
     },
     "output_type": "display_data"
    }
   ],
   "source": [
    "plt.figure(figsize = (15,6))\n",
    "sam_store.groupby('Sub-Category')['Profit'].mean().plot(kind = 'bar', color = 'pink')\n",
    "plt.axhline(y=0, color = 'black')\n",
    "plt.show()"
   ]
  },
  {
   "cell_type": "markdown",
   "id": "4e3f248f",
   "metadata": {},
   "source": [
    "1. The plot indicates that copiers is the sub category with highest profit\n",
    "2. Tables, Bookcases and supplies are the sub-categories which are in loss"
   ]
  },
  {
   "cell_type": "markdown",
   "id": "61a5869d",
   "metadata": {},
   "source": [
    "### 6. Based on Shipment mode :"
   ]
  },
  {
   "cell_type": "code",
   "execution_count": 30,
   "id": "15589c33",
   "metadata": {},
   "outputs": [
    {
     "data": {
      "text/plain": [
       "Ship Mode\n",
       "First Class       31.839948\n",
       "Same Day          29.266591\n",
       "Second Class      29.535545\n",
       "Standard Class    27.494770\n",
       "Name: Profit, dtype: float64"
      ]
     },
     "execution_count": 30,
     "metadata": {},
     "output_type": "execute_result"
    }
   ],
   "source": [
    "sam_store.groupby('Ship Mode')['Profit'].mean()"
   ]
  },
  {
   "cell_type": "code",
   "execution_count": 31,
   "id": "987f890e",
   "metadata": {},
   "outputs": [
    {
     "data": {
      "image/png": "[encoded data removed]",
      "text/plain": [
       "<Figure size 720x576 with 1 Axes>"
      ]
     },
     "metadata": {
      "needs_background": "light"
     },
     "output_type": "display_data"
    }
   ],
   "source": [
    "sns.barplot(x = 'Profit', y = 'Ship Mode', data = sam_store)\n",
    "plt.title('Profit based on shipment mode', fontsize = 15)\n",
    "plt.ylabel('SHIP MODE', loc = 'center', fontsize = 13)\n",
    "plt.xlabel('PROFIT', loc = 'center', fontsize = 13)\n",
    "plt.show()"
   ]
  },
  {
   "cell_type": "markdown",
   "id": "7a09960b",
   "metadata": {},
   "source": [
    "1. Products shipped through standard class seems to give less profit compared to other classes\n",
    "2. And it is observed that the first class ship mode gives the highest profit\n",
    "3. In order to gain more profit based on ship mode, the best way would be to ship via first class"
   ]
  },
  {
   "cell_type": "markdown",
   "id": "3f96dfd5",
   "metadata": {},
   "source": [
    "### 7. Based on Segment :"
   ]
  },
  {
   "cell_type": "code",
   "execution_count": 32,
   "id": "36207543",
   "metadata": {},
   "outputs": [
    {
     "data": {
      "text/plain": [
       "Segment\n",
       "Consumer       25.836873\n",
       "Corporate      30.456667\n",
       "Home Office    33.818664\n",
       "Name: Profit, dtype: float64"
      ]
     },
     "execution_count": 32,
     "metadata": {},
     "output_type": "execute_result"
    }
   ],
   "source": [
    "sam_store.groupby('Segment')['Profit'].mean()"
   ]
  },
  {
   "cell_type": "code",
   "execution_count": 33,
   "id": "fa872ae8",
   "metadata": {},
   "outputs": [
    {
     "data": {
      "image/png": "[encoded data removed]",
      "text/plain": [
       "<Figure size 720x576 with 1 Axes>"
      ]
     },
     "metadata": {
      "needs_background": "light"
     },
     "output_type": "display_data"
    }
   ],
   "source": [
    "sns.barplot(sam_store['Segment'], sam_store['Profit'], color = 'Purple')\n",
    "plt.title('Profit based on Segment', fontsize = 15)\n",
    "plt.xlabel('SEGMENT', fontsize = 13)\n",
    "plt.ylabel('PROFIT', fontsize = 13)\n",
    "plt.show()"
   ]
  },
  {
   "cell_type": "markdown",
   "id": "d9bb0f6e",
   "metadata": {},
   "source": [
    "1. Consumer segment exhibits less profit comparatively\n",
    "2. The home office segment seems to gain more profit compared to all other segments"
   ]
  }
 ],
 "metadata": {
  "kernelspec": {
   "display_name": "Python 3",
   "language": "python",
   "name": "python3"
  },
  "language_info": {
   "codemirror_mode": {
    "name": "ipython",
    "version": 3
   },
   "file_extension": ".py",
   "mimetype": "text/x-python",
   "name": "python",
   "nbconvert_exporter": "python",
   "pygments_lexer": "ipython3",
   "version": "3.8.8"
  }
 },
 "nbformat": 4,
 "nbformat_minor": 5
}
